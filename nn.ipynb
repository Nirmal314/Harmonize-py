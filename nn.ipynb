{
  "nbformat": 4,
  "nbformat_minor": 0,
  "metadata": {
    "colab": {
      "provenance": [],
      "authorship_tag": "ABX9TyMpg7dicKVVlRA2I7gXiMC+",
      "include_colab_link": true
    },
    "kernelspec": {
      "name": "python3",
      "display_name": "Python 3"
    },
    "language_info": {
      "name": "python"
    }
  },
  "cells": [
    {
      "cell_type": "markdown",
      "metadata": {
        "id": "view-in-github",
        "colab_type": "text"
      },
      "source": [
        "<a href=\"https://colab.research.google.com/github/Nirmal314/Harmonize-py/blob/neural_network/nn.ipynb\" target=\"_parent\"><img src=\"https://colab.research.google.com/assets/colab-badge.svg\" alt=\"Open In Colab\"/></a>"
      ]
    },
    {
      "cell_type": "markdown",
      "source": [
        "**Data Preprocessing and Feature Selection**"
      ],
      "metadata": {
        "id": "FiXSj-5YLiJt"
      }
    },
    {
      "cell_type": "code",
      "execution_count": 3,
      "metadata": {
        "id": "SMhLjEkh3d7N"
      },
      "outputs": [],
      "source": [
        "import pandas as pd\n",
        "import numpy as np\n",
        "from sklearn.preprocessing import StandardScaler\n",
        "\n",
        "# Load data\n",
        "data = pd.read_csv('cleaned_dataset.csv')\n",
        "df = pd.DataFrame(data)\n",
        "df = df.dropna()\n",
        "\n",
        "# Assuming df is your DataFrame with the Spotify dataset\n",
        "features = ['valence', 'energy', 'danceability', 'acousticness', 'loudness', 'tempo', 'instrumentalness', 'liveness']\n",
        "\n",
        "# Select relevant features\n",
        "X = df[features]\n",
        "\n",
        "# Normalize the features\n",
        "scaler = StandardScaler()\n",
        "X_scaled = scaler.fit_transform(X)\n",
        "\n",
        "# Create a new DataFrame with scaled features\n",
        "df_scaled = pd.DataFrame(X_scaled, columns=features)"
      ]
    },
    {
      "cell_type": "markdown",
      "source": [
        "**PCA Dimensionality Reduction**"
      ],
      "metadata": {
        "id": "ZqLVsvP3L8Ns"
      }
    },
    {
      "cell_type": "code",
      "source": [
        "from sklearn.decomposition import PCA\n",
        "\n",
        "# Apply PCA\n",
        "pca = PCA(n_components=2)\n",
        "X_pca = pca.fit_transform(X_scaled)\n",
        "\n",
        "# Add PCA components to the DataFrame\n",
        "df_scaled['PCA1'] = X_pca[:, 0]\n",
        "df_scaled['PCA2'] = X_pca[:, 1]\n"
      ],
      "metadata": {
        "id": "jK3mJXg1L_SV"
      },
      "execution_count": 4,
      "outputs": []
    },
    {
      "cell_type": "markdown",
      "source": [
        "**K-means Clustering**"
      ],
      "metadata": {
        "id": "zKsRUSHPMHbE"
      }
    },
    {
      "cell_type": "code",
      "source": [
        "from sklearn.cluster import KMeans\n",
        "\n",
        "# Perform K-means clustering\n",
        "kmeans = KMeans(n_clusters=7, random_state=42)\n",
        "df_scaled['cluster'] = kmeans.fit_predict(X_scaled)"
      ],
      "metadata": {
        "colab": {
          "base_uri": "https://localhost:8080/"
        },
        "id": "dYad0LHYMI-Y",
        "outputId": "833a0eef-909a-4cbc-a289-cbc533a3f02c"
      },
      "execution_count": 5,
      "outputs": [
        {
          "output_type": "stream",
          "name": "stderr",
          "text": [
            "/usr/local/lib/python3.10/dist-packages/sklearn/cluster/_kmeans.py:1416: FutureWarning: The default value of `n_init` will change from 10 to 'auto' in 1.4. Set the value of `n_init` explicitly to suppress the warning\n",
            "  super()._check_params_vs_input(X, default_n_init=10)\n"
          ]
        }
      ]
    },
    {
      "cell_type": "markdown",
      "source": [
        "**Mapping Clusters to Categories**"
      ],
      "metadata": {
        "id": "BG7x90CuMO6w"
      }
    },
    {
      "cell_type": "code",
      "source": [
        "# Calculate cluster centroids\n",
        "centroids = kmeans.cluster_centers_\n",
        "\n",
        "# Create a mapping based on centroid characteristics\n",
        "category_mapping = {\n",
        "    0: 'RELAXING',  # Low energy, high acousticness\n",
        "    1: 'CALM',      # Moderate valence, low energy\n",
        "    2: 'SAD',       # Low valence, high acousticness\n",
        "    3: 'HAPPY',     # High valence, high danceability\n",
        "    4: 'ENERGETIC', # High energy, high tempo\n",
        "    5: 'CONFIDENT', # High valence, high danceability, moderate energy\n",
        "    6: 'SCARY'      # Low valence, high energy, low acousticness\n",
        "}\n",
        "\n",
        "# Apply mapping to create labels\n",
        "df_scaled['category'] = df_scaled['cluster'].map(category_mapping)\n",
        "\n",
        "df_scaled['category'].head(10)"
      ],
      "metadata": {
        "colab": {
          "base_uri": "https://localhost:8080/",
          "height": 418
        },
        "id": "x6IxQV7cMP2-",
        "outputId": "1904f529-feed-4ac5-d2d0-82d9262c74c4"
      },
      "execution_count": 6,
      "outputs": [
        {
          "output_type": "execute_result",
          "data": {
            "text/plain": [
              "0    RELAXING\n",
              "1       SCARY\n",
              "2       HAPPY\n",
              "3       SCARY\n",
              "4       SCARY\n",
              "5    RELAXING\n",
              "6       SCARY\n",
              "7    RELAXING\n",
              "8    RELAXING\n",
              "9       HAPPY\n",
              "Name: category, dtype: object"
            ],
            "text/html": [
              "<div>\n",
              "<style scoped>\n",
              "    .dataframe tbody tr th:only-of-type {\n",
              "        vertical-align: middle;\n",
              "    }\n",
              "\n",
              "    .dataframe tbody tr th {\n",
              "        vertical-align: top;\n",
              "    }\n",
              "\n",
              "    .dataframe thead th {\n",
              "        text-align: right;\n",
              "    }\n",
              "</style>\n",
              "<table border=\"1\" class=\"dataframe\">\n",
              "  <thead>\n",
              "    <tr style=\"text-align: right;\">\n",
              "      <th></th>\n",
              "      <th>category</th>\n",
              "    </tr>\n",
              "  </thead>\n",
              "  <tbody>\n",
              "    <tr>\n",
              "      <th>0</th>\n",
              "      <td>RELAXING</td>\n",
              "    </tr>\n",
              "    <tr>\n",
              "      <th>1</th>\n",
              "      <td>SCARY</td>\n",
              "    </tr>\n",
              "    <tr>\n",
              "      <th>2</th>\n",
              "      <td>HAPPY</td>\n",
              "    </tr>\n",
              "    <tr>\n",
              "      <th>3</th>\n",
              "      <td>SCARY</td>\n",
              "    </tr>\n",
              "    <tr>\n",
              "      <th>4</th>\n",
              "      <td>SCARY</td>\n",
              "    </tr>\n",
              "    <tr>\n",
              "      <th>5</th>\n",
              "      <td>RELAXING</td>\n",
              "    </tr>\n",
              "    <tr>\n",
              "      <th>6</th>\n",
              "      <td>SCARY</td>\n",
              "    </tr>\n",
              "    <tr>\n",
              "      <th>7</th>\n",
              "      <td>RELAXING</td>\n",
              "    </tr>\n",
              "    <tr>\n",
              "      <th>8</th>\n",
              "      <td>RELAXING</td>\n",
              "    </tr>\n",
              "    <tr>\n",
              "      <th>9</th>\n",
              "      <td>HAPPY</td>\n",
              "    </tr>\n",
              "  </tbody>\n",
              "</table>\n",
              "</div><br><label><b>dtype:</b> object</label>"
            ]
          },
          "metadata": {},
          "execution_count": 6
        }
      ]
    },
    {
      "cell_type": "markdown",
      "source": [
        "**Neural Network Classifier**"
      ],
      "metadata": {
        "id": "INWpbolaMWop"
      }
    },
    {
      "cell_type": "code",
      "source": [
        "import tensorflow as tf\n",
        "from sklearn.model_selection import train_test_split\n",
        "from sklearn.preprocessing import LabelEncoder\n",
        "\n",
        "# Prepare the data\n",
        "X = df_scaled[features]\n",
        "y = df_scaled['category']\n",
        "\n",
        "# Encode the labels\n",
        "le = LabelEncoder()\n",
        "y_encoded = le.fit_transform(y)\n",
        "\n",
        "# Split the data\n",
        "X_train, X_test, y_train, y_test = train_test_split(X, y_encoded, test_size=0.2, random_state=42)\n",
        "\n",
        "# Create the model\n",
        "model = tf.keras.Sequential([\n",
        "    tf.keras.layers.Dense(128, activation='relu', input_shape=(20,)),\n",
        "    tf.keras.layers.Dense(64, activation='relu'),\n",
        "    tf.keras.layers.Dense(32, activation='relu'),\n",
        "    tf.keras.layers.Dense(7, activation='softmax')\n",
        "])\n",
        "\n",
        "# Compile the model\n",
        "model.compile(optimizer='adam', loss='sparse_categorical_crossentropy', metrics=['accuracy'])\n",
        "\n",
        "# Train the model\n",
        "history = model.fit(X_train, y_train, epochs=50, batch_size=32, validation_split=0.2, verbose=1)\n",
        "\n",
        "# Evaluate the model\n",
        "test_loss, test_accuracy = model.evaluate(X_test, y_test, verbose=0)\n",
        "print(f\"Test accuracy: {test_accuracy:.4f}\")\n",
        "\n",
        "# Make predictions\n",
        "y_pred = model.predict(X_test)\n",
        "y_pred_classes = np.argmax(y_pred, axis=1)\n",
        "\n",
        "# Map predictions back to category labels\n",
        "y_pred_labels = le.inverse_transform(y_pred_classes)"
      ],
      "metadata": {
        "colab": {
          "base_uri": "https://localhost:8080/"
        },
        "id": "ahhoFBoTMZEo",
        "outputId": "9725317e-a278-4af1-f51c-fbc6e53e3aa2"
      },
      "execution_count": 7,
      "outputs": [
        {
          "output_type": "stream",
          "name": "stdout",
          "text": [
            "Epoch 1/50\n"
          ]
        },
        {
          "output_type": "stream",
          "name": "stderr",
          "text": [
            "/usr/local/lib/python3.10/dist-packages/keras/src/layers/core/dense.py:87: UserWarning: Do not pass an `input_shape`/`input_dim` argument to a layer. When using Sequential models, prefer using an `Input(shape)` object as the first layer in the model instead.\n",
            "  super().__init__(activity_regularizer=activity_regularizer, **kwargs)\n"
          ]
        },
        {
          "output_type": "stream",
          "name": "stdout",
          "text": [
            "\u001b[1m1795/1795\u001b[0m \u001b[32m━━━━━━━━━━━━━━━━━━━━\u001b[0m\u001b[37m\u001b[0m \u001b[1m5s\u001b[0m 2ms/step - accuracy: 0.8641 - loss: 0.4748 - val_accuracy: 0.9752 - val_loss: 0.0682\n",
            "Epoch 2/50\n",
            "\u001b[1m1795/1795\u001b[0m \u001b[32m━━━━━━━━━━━━━━━━━━━━\u001b[0m\u001b[37m\u001b[0m \u001b[1m7s\u001b[0m 3ms/step - accuracy: 0.9741 - loss: 0.0664 - val_accuracy: 0.9795 - val_loss: 0.0552\n",
            "Epoch 3/50\n",
            "\u001b[1m1795/1795\u001b[0m \u001b[32m━━━━━━━━━━━━━━━━━━━━\u001b[0m\u001b[37m\u001b[0m \u001b[1m3s\u001b[0m 2ms/step - accuracy: 0.9794 - loss: 0.0524 - val_accuracy: 0.9798 - val_loss: 0.0463\n",
            "Epoch 4/50\n",
            "\u001b[1m1795/1795\u001b[0m \u001b[32m━━━━━━━━━━━━━━━━━━━━\u001b[0m\u001b[37m\u001b[0m \u001b[1m5s\u001b[0m 2ms/step - accuracy: 0.9825 - loss: 0.0456 - val_accuracy: 0.9810 - val_loss: 0.0449\n",
            "Epoch 5/50\n",
            "\u001b[1m1795/1795\u001b[0m \u001b[32m━━━━━━━━━━━━━━━━━━━━\u001b[0m\u001b[37m\u001b[0m \u001b[1m6s\u001b[0m 2ms/step - accuracy: 0.9840 - loss: 0.0396 - val_accuracy: 0.9851 - val_loss: 0.0362\n",
            "Epoch 6/50\n",
            "\u001b[1m1795/1795\u001b[0m \u001b[32m━━━━━━━━━━━━━━━━━━━━\u001b[0m\u001b[37m\u001b[0m \u001b[1m4s\u001b[0m 2ms/step - accuracy: 0.9845 - loss: 0.0377 - val_accuracy: 0.9850 - val_loss: 0.0370\n",
            "Epoch 7/50\n",
            "\u001b[1m1795/1795\u001b[0m \u001b[32m━━━━━━━━━━━━━━━━━━━━\u001b[0m\u001b[37m\u001b[0m \u001b[1m3s\u001b[0m 2ms/step - accuracy: 0.9866 - loss: 0.0337 - val_accuracy: 0.9874 - val_loss: 0.0313\n",
            "Epoch 8/50\n",
            "\u001b[1m1795/1795\u001b[0m \u001b[32m━━━━━━━━━━━━━━━━━━━━\u001b[0m\u001b[37m\u001b[0m \u001b[1m6s\u001b[0m 4ms/step - accuracy: 0.9862 - loss: 0.0348 - val_accuracy: 0.9866 - val_loss: 0.0314\n",
            "Epoch 9/50\n",
            "\u001b[1m1795/1795\u001b[0m \u001b[32m━━━━━━━━━━━━━━━━━━━━\u001b[0m\u001b[37m\u001b[0m \u001b[1m4s\u001b[0m 2ms/step - accuracy: 0.9861 - loss: 0.0337 - val_accuracy: 0.9844 - val_loss: 0.0351\n",
            "Epoch 10/50\n",
            "\u001b[1m1795/1795\u001b[0m \u001b[32m━━━━━━━━━━━━━━━━━━━━\u001b[0m\u001b[37m\u001b[0m \u001b[1m3s\u001b[0m 2ms/step - accuracy: 0.9857 - loss: 0.0337 - val_accuracy: 0.9863 - val_loss: 0.0314\n",
            "Epoch 11/50\n",
            "\u001b[1m1795/1795\u001b[0m \u001b[32m━━━━━━━━━━━━━━━━━━━━\u001b[0m\u001b[37m\u001b[0m \u001b[1m6s\u001b[0m 3ms/step - accuracy: 0.9861 - loss: 0.0335 - val_accuracy: 0.9851 - val_loss: 0.0358\n",
            "Epoch 12/50\n",
            "\u001b[1m1795/1795\u001b[0m \u001b[32m━━━━━━━━━━━━━━━━━━━━\u001b[0m\u001b[37m\u001b[0m \u001b[1m4s\u001b[0m 2ms/step - accuracy: 0.9864 - loss: 0.0314 - val_accuracy: 0.9832 - val_loss: 0.0412\n",
            "Epoch 13/50\n",
            "\u001b[1m1795/1795\u001b[0m \u001b[32m━━━━━━━━━━━━━━━━━━━━\u001b[0m\u001b[37m\u001b[0m \u001b[1m5s\u001b[0m 2ms/step - accuracy: 0.9871 - loss: 0.0319 - val_accuracy: 0.9858 - val_loss: 0.0338\n",
            "Epoch 14/50\n",
            "\u001b[1m1795/1795\u001b[0m \u001b[32m━━━━━━━━━━━━━━━━━━━━\u001b[0m\u001b[37m\u001b[0m \u001b[1m7s\u001b[0m 3ms/step - accuracy: 0.9889 - loss: 0.0287 - val_accuracy: 0.9845 - val_loss: 0.0347\n",
            "Epoch 15/50\n",
            "\u001b[1m1795/1795\u001b[0m \u001b[32m━━━━━━━━━━━━━━━━━━━━\u001b[0m\u001b[37m\u001b[0m \u001b[1m3s\u001b[0m 2ms/step - accuracy: 0.9881 - loss: 0.0284 - val_accuracy: 0.9867 - val_loss: 0.0328\n",
            "Epoch 16/50\n",
            "\u001b[1m1795/1795\u001b[0m \u001b[32m━━━━━━━━━━━━━━━━━━━━\u001b[0m\u001b[37m\u001b[0m \u001b[1m3s\u001b[0m 2ms/step - accuracy: 0.9894 - loss: 0.0276 - val_accuracy: 0.9865 - val_loss: 0.0302\n",
            "Epoch 17/50\n",
            "\u001b[1m1795/1795\u001b[0m \u001b[32m━━━━━━━━━━━━━━━━━━━━\u001b[0m\u001b[37m\u001b[0m \u001b[1m7s\u001b[0m 3ms/step - accuracy: 0.9884 - loss: 0.0283 - val_accuracy: 0.9868 - val_loss: 0.0290\n",
            "Epoch 18/50\n",
            "\u001b[1m1795/1795\u001b[0m \u001b[32m━━━━━━━━━━━━━━━━━━━━\u001b[0m\u001b[37m\u001b[0m \u001b[1m8s\u001b[0m 2ms/step - accuracy: 0.9890 - loss: 0.0271 - val_accuracy: 0.9810 - val_loss: 0.0602\n",
            "Epoch 19/50\n",
            "\u001b[1m1795/1795\u001b[0m \u001b[32m━━━━━━━━━━━━━━━━━━━━\u001b[0m\u001b[37m\u001b[0m \u001b[1m5s\u001b[0m 3ms/step - accuracy: 0.9897 - loss: 0.0261 - val_accuracy: 0.9930 - val_loss: 0.0200\n",
            "Epoch 20/50\n",
            "\u001b[1m1795/1795\u001b[0m \u001b[32m━━━━━━━━━━━━━━━━━━━━\u001b[0m\u001b[37m\u001b[0m \u001b[1m4s\u001b[0m 2ms/step - accuracy: 0.9901 - loss: 0.0263 - val_accuracy: 0.9893 - val_loss: 0.0300\n",
            "Epoch 21/50\n",
            "\u001b[1m1795/1795\u001b[0m \u001b[32m━━━━━━━━━━━━━━━━━━━━\u001b[0m\u001b[37m\u001b[0m \u001b[1m3s\u001b[0m 2ms/step - accuracy: 0.9894 - loss: 0.0261 - val_accuracy: 0.9905 - val_loss: 0.0238\n",
            "Epoch 22/50\n",
            "\u001b[1m1795/1795\u001b[0m \u001b[32m━━━━━━━━━━━━━━━━━━━━\u001b[0m\u001b[37m\u001b[0m \u001b[1m6s\u001b[0m 3ms/step - accuracy: 0.9905 - loss: 0.0249 - val_accuracy: 0.9856 - val_loss: 0.0366\n",
            "Epoch 23/50\n",
            "\u001b[1m1795/1795\u001b[0m \u001b[32m━━━━━━━━━━━━━━━━━━━━\u001b[0m\u001b[37m\u001b[0m \u001b[1m7s\u001b[0m 2ms/step - accuracy: 0.9892 - loss: 0.0263 - val_accuracy: 0.9890 - val_loss: 0.0275\n",
            "Epoch 24/50\n",
            "\u001b[1m1795/1795\u001b[0m \u001b[32m━━━━━━━━━━━━━━━━━━━━\u001b[0m\u001b[37m\u001b[0m \u001b[1m7s\u001b[0m 3ms/step - accuracy: 0.9895 - loss: 0.0277 - val_accuracy: 0.9870 - val_loss: 0.0391\n",
            "Epoch 25/50\n",
            "\u001b[1m1795/1795\u001b[0m \u001b[32m━━━━━━━━━━━━━━━━━━━━\u001b[0m\u001b[37m\u001b[0m \u001b[1m4s\u001b[0m 2ms/step - accuracy: 0.9897 - loss: 0.0259 - val_accuracy: 0.9897 - val_loss: 0.0238\n",
            "Epoch 26/50\n",
            "\u001b[1m1795/1795\u001b[0m \u001b[32m━━━━━━━━━━━━━━━━━━━━\u001b[0m\u001b[37m\u001b[0m \u001b[1m5s\u001b[0m 2ms/step - accuracy: 0.9894 - loss: 0.0263 - val_accuracy: 0.9891 - val_loss: 0.0262\n",
            "Epoch 27/50\n",
            "\u001b[1m1795/1795\u001b[0m \u001b[32m━━━━━━━━━━━━━━━━━━━━\u001b[0m\u001b[37m\u001b[0m \u001b[1m7s\u001b[0m 3ms/step - accuracy: 0.9908 - loss: 0.0225 - val_accuracy: 0.9890 - val_loss: 0.0292\n",
            "Epoch 28/50\n",
            "\u001b[1m1795/1795\u001b[0m \u001b[32m━━━━━━━━━━━━━━━━━━━━\u001b[0m\u001b[37m\u001b[0m \u001b[1m3s\u001b[0m 2ms/step - accuracy: 0.9900 - loss: 0.0265 - val_accuracy: 0.9865 - val_loss: 0.0315\n",
            "Epoch 29/50\n",
            "\u001b[1m1795/1795\u001b[0m \u001b[32m━━━━━━━━━━━━━━━━━━━━\u001b[0m\u001b[37m\u001b[0m \u001b[1m5s\u001b[0m 2ms/step - accuracy: 0.9903 - loss: 0.0242 - val_accuracy: 0.9902 - val_loss: 0.0237\n",
            "Epoch 30/50\n",
            "\u001b[1m1795/1795\u001b[0m \u001b[32m━━━━━━━━━━━━━━━━━━━━\u001b[0m\u001b[37m\u001b[0m \u001b[1m5s\u001b[0m 3ms/step - accuracy: 0.9898 - loss: 0.0241 - val_accuracy: 0.9881 - val_loss: 0.0281\n",
            "Epoch 31/50\n",
            "\u001b[1m1795/1795\u001b[0m \u001b[32m━━━━━━━━━━━━━━━━━━━━\u001b[0m\u001b[37m\u001b[0m \u001b[1m3s\u001b[0m 2ms/step - accuracy: 0.9901 - loss: 0.0238 - val_accuracy: 0.9877 - val_loss: 0.0299\n",
            "Epoch 32/50\n",
            "\u001b[1m1795/1795\u001b[0m \u001b[32m━━━━━━━━━━━━━━━━━━━━\u001b[0m\u001b[37m\u001b[0m \u001b[1m5s\u001b[0m 2ms/step - accuracy: 0.9903 - loss: 0.0246 - val_accuracy: 0.9901 - val_loss: 0.0240\n",
            "Epoch 33/50\n",
            "\u001b[1m1795/1795\u001b[0m \u001b[32m━━━━━━━━━━━━━━━━━━━━\u001b[0m\u001b[37m\u001b[0m \u001b[1m8s\u001b[0m 3ms/step - accuracy: 0.9901 - loss: 0.0247 - val_accuracy: 0.9886 - val_loss: 0.0271\n",
            "Epoch 34/50\n",
            "\u001b[1m1795/1795\u001b[0m \u001b[32m━━━━━━━━━━━━━━━━━━━━\u001b[0m\u001b[37m\u001b[0m \u001b[1m9s\u001b[0m 2ms/step - accuracy: 0.9915 - loss: 0.0215 - val_accuracy: 0.9910 - val_loss: 0.0237\n",
            "Epoch 35/50\n",
            "\u001b[1m1795/1795\u001b[0m \u001b[32m━━━━━━━━━━━━━━━━━━━━\u001b[0m\u001b[37m\u001b[0m \u001b[1m4s\u001b[0m 2ms/step - accuracy: 0.9923 - loss: 0.0198 - val_accuracy: 0.9879 - val_loss: 0.0298\n",
            "Epoch 36/50\n",
            "\u001b[1m1795/1795\u001b[0m \u001b[32m━━━━━━━━━━━━━━━━━━━━\u001b[0m\u001b[37m\u001b[0m \u001b[1m5s\u001b[0m 2ms/step - accuracy: 0.9907 - loss: 0.0233 - val_accuracy: 0.9918 - val_loss: 0.0218\n",
            "Epoch 37/50\n",
            "\u001b[1m1795/1795\u001b[0m \u001b[32m━━━━━━━━━━━━━━━━━━━━\u001b[0m\u001b[37m\u001b[0m \u001b[1m7s\u001b[0m 3ms/step - accuracy: 0.9909 - loss: 0.0228 - val_accuracy: 0.9914 - val_loss: 0.0199\n",
            "Epoch 38/50\n",
            "\u001b[1m1795/1795\u001b[0m \u001b[32m━━━━━━━━━━━━━━━━━━━━\u001b[0m\u001b[37m\u001b[0m \u001b[1m3s\u001b[0m 2ms/step - accuracy: 0.9899 - loss: 0.0243 - val_accuracy: 0.9830 - val_loss: 0.0482\n",
            "Epoch 39/50\n",
            "\u001b[1m1795/1795\u001b[0m \u001b[32m━━━━━━━━━━━━━━━━━━━━\u001b[0m\u001b[37m\u001b[0m \u001b[1m3s\u001b[0m 2ms/step - accuracy: 0.9902 - loss: 0.0257 - val_accuracy: 0.9893 - val_loss: 0.0250\n",
            "Epoch 40/50\n",
            "\u001b[1m1795/1795\u001b[0m \u001b[32m━━━━━━━━━━━━━━━━━━━━\u001b[0m\u001b[37m\u001b[0m \u001b[1m5s\u001b[0m 3ms/step - accuracy: 0.9918 - loss: 0.0204 - val_accuracy: 0.9871 - val_loss: 0.0357\n",
            "Epoch 41/50\n",
            "\u001b[1m1795/1795\u001b[0m \u001b[32m━━━━━━━━━━━━━━━━━━━━\u001b[0m\u001b[37m\u001b[0m \u001b[1m4s\u001b[0m 2ms/step - accuracy: 0.9912 - loss: 0.0207 - val_accuracy: 0.9898 - val_loss: 0.0255\n",
            "Epoch 42/50\n",
            "\u001b[1m1795/1795\u001b[0m \u001b[32m━━━━━━━━━━━━━━━━━━━━\u001b[0m\u001b[37m\u001b[0m \u001b[1m4s\u001b[0m 2ms/step - accuracy: 0.9910 - loss: 0.0216 - val_accuracy: 0.9909 - val_loss: 0.0232\n",
            "Epoch 43/50\n",
            "\u001b[1m1795/1795\u001b[0m \u001b[32m━━━━━━━━━━━━━━━━━━━━\u001b[0m\u001b[37m\u001b[0m \u001b[1m6s\u001b[0m 3ms/step - accuracy: 0.9915 - loss: 0.0210 - val_accuracy: 0.9879 - val_loss: 0.0342\n",
            "Epoch 44/50\n",
            "\u001b[1m1795/1795\u001b[0m \u001b[32m━━━━━━━━━━━━━━━━━━━━\u001b[0m\u001b[37m\u001b[0m \u001b[1m4s\u001b[0m 2ms/step - accuracy: 0.9903 - loss: 0.0246 - val_accuracy: 0.9895 - val_loss: 0.0259\n",
            "Epoch 45/50\n",
            "\u001b[1m1795/1795\u001b[0m \u001b[32m━━━━━━━━━━━━━━━━━━━━\u001b[0m\u001b[37m\u001b[0m \u001b[1m4s\u001b[0m 2ms/step - accuracy: 0.9922 - loss: 0.0189 - val_accuracy: 0.9902 - val_loss: 0.0250\n",
            "Epoch 46/50\n",
            "\u001b[1m1795/1795\u001b[0m \u001b[32m━━━━━━━━━━━━━━━━━━━━\u001b[0m\u001b[37m\u001b[0m \u001b[1m7s\u001b[0m 3ms/step - accuracy: 0.9915 - loss: 0.0212 - val_accuracy: 0.9886 - val_loss: 0.0301\n",
            "Epoch 47/50\n",
            "\u001b[1m1795/1795\u001b[0m \u001b[32m━━━━━━━━━━━━━━━━━━━━\u001b[0m\u001b[37m\u001b[0m \u001b[1m8s\u001b[0m 2ms/step - accuracy: 0.9919 - loss: 0.0201 - val_accuracy: 0.9910 - val_loss: 0.0209\n",
            "Epoch 48/50\n",
            "\u001b[1m1795/1795\u001b[0m \u001b[32m━━━━━━━━━━━━━━━━━━━━\u001b[0m\u001b[37m\u001b[0m \u001b[1m7s\u001b[0m 3ms/step - accuracy: 0.9913 - loss: 0.0224 - val_accuracy: 0.9886 - val_loss: 0.0298\n",
            "Epoch 49/50\n",
            "\u001b[1m1795/1795\u001b[0m \u001b[32m━━━━━━━━━━━━━━━━━━━━\u001b[0m\u001b[37m\u001b[0m \u001b[1m9s\u001b[0m 2ms/step - accuracy: 0.9920 - loss: 0.0190 - val_accuracy: 0.9920 - val_loss: 0.0235\n",
            "Epoch 50/50\n",
            "\u001b[1m1795/1795\u001b[0m \u001b[32m━━━━━━━━━━━━━━━━━━━━\u001b[0m\u001b[37m\u001b[0m \u001b[1m5s\u001b[0m 3ms/step - accuracy: 0.9923 - loss: 0.0211 - val_accuracy: 0.9919 - val_loss: 0.0204\n",
            "Test accuracy: 0.9896\n",
            "\u001b[1m561/561\u001b[0m \u001b[32m━━━━━━━━━━━━━━━━━━━━\u001b[0m\u001b[37m\u001b[0m \u001b[1m1s\u001b[0m 1ms/step\n"
          ]
        }
      ]
    },
    {
      "cell_type": "markdown",
      "source": [
        "**Evaluation and Analysis**"
      ],
      "metadata": {
        "id": "U1kju6VxMxKG"
      }
    },
    {
      "cell_type": "code",
      "source": [
        "from sklearn.metrics import classification_report, confusion_matrix\n",
        "import seaborn as sns\n",
        "import matplotlib.pyplot as plt\n",
        "\n",
        "# Classification report\n",
        "print(classification_report(y_test, y_pred_classes, target_names=le.classes_))\n",
        "\n",
        "# Confusion matrix\n",
        "cm = confusion_matrix(y_test, y_pred_classes)\n",
        "plt.figure(figsize=(10, 8))\n",
        "sns.heatmap(cm, annot=True, fmt='d', cmap='Blues', xticklabels=le.classes_, yticklabels=le.classes_)\n",
        "plt.title('Confusion Matrix')\n",
        "plt.xlabel('Predicted')\n",
        "plt.ylabel('True')\n",
        "plt.show()\n",
        "\n",
        "# Feature importance\n",
        "feature_importance = model.layers[0].get_weights()[0]\n",
        "feature_importance = np.mean(np.abs(feature_importance), axis=1)\n",
        "feature_importance_df = pd.DataFrame({'feature': features, 'importance': feature_importance})\n",
        "feature_importance_df = feature_importance_df.sort_values('importance', ascending=False)\n",
        "\n",
        "plt.figure(figsize=(10, 6))\n",
        "sns.barplot(x='importance', y='feature', data=feature_importance_df)\n",
        "plt.title('Feature Importance')\n",
        "plt.show()"
      ],
      "metadata": {
        "colab": {
          "base_uri": "https://localhost:8080/",
          "height": 1000
        },
        "id": "knR-pD-nMyjS",
        "outputId": "4e923f18-ea64-453b-96dd-059e474581ee"
      },
      "execution_count": 8,
      "outputs": [
        {
          "output_type": "stream",
          "name": "stdout",
          "text": [
            "              precision    recall  f1-score   support\n",
            "\n",
            "        CALM       1.00      0.97      0.98      1297\n",
            "   CONFIDENT       0.97      1.00      0.98      1270\n",
            "   ENERGETIC       1.00      0.99      0.99      1957\n",
            "       HAPPY       0.99      0.99      0.99      3006\n",
            "    RELAXING       0.99      1.00      0.99      4552\n",
            "         SAD       0.99      0.99      0.99      2572\n",
            "       SCARY       1.00      0.98      0.99      3294\n",
            "\n",
            "    accuracy                           0.99     17948\n",
            "   macro avg       0.99      0.99      0.99     17948\n",
            "weighted avg       0.99      0.99      0.99     17948\n",
            "\n"
          ]
        },
        {
          "output_type": "display_data",
          "data": {
            "text/plain": [
              "<Figure size 1000x800 with 2 Axes>"
            ],
            "image/png": "[encoded data removed]"
          },
          "metadata": {}
        },
        {
          "output_type": "display_data",
          "data": {
            "text/plain": [
              "<Figure size 1000x600 with 1 Axes>"
            ],
            "image/png": "[encoded data removed]"
          },
          "metadata": {}
        }
      ]
    },
    {
      "cell_type": "markdown",
      "source": [
        "**Exporting the Trained Model**"
      ],
      "metadata": {
        "id": "-Xi6aVfDaJwx"
      }
    },
    {
      "cell_type": "code",
      "source": [
        "import os\n",
        "import pickle\n",
        "from tensorflow.keras.models import load_model\n",
        "\n",
        "# Create a directory to store the model and related files\n",
        "os.makedirs('song_emotion_model', exist_ok=True)\n",
        "\n",
        "# Save the entire model (architecture + weights)\n",
        "model.save('song_emotion_model/full_model.h5')\n",
        "\n",
        "# Save only the model weights\n",
        "model.save_weights('song_emotion_model/model.weights.h5')\n",
        "\n",
        "# Save the label encoder\n",
        "with open('song_emotion_model/label_encoder.pkl', 'wb') as f:\n",
        "    pickle.dump(le, f)\n",
        "\n",
        "# Save the feature scaler\n",
        "with open('song_emotion_model/feature_scaler.pkl', 'wb') as f:\n",
        "    pickle.dump(scaler, f)\n",
        "\n",
        "print(\"Model and related files saved in 'song_emotion_model' directory.\")\n",
        "\n",
        "# Example of how to load the model and make predictions\n",
        "def load_and_predict(features):\n",
        "    # Load the model\n",
        "    loaded_model = load_model('song_emotion_model/full_model.h5')\n",
        "\n",
        "    # Load the label encoder\n",
        "    with open('song_emotion_model/label_encoder.pkl', 'rb') as f:\n",
        "        loaded_le = pickle.load(f)\n",
        "\n",
        "    # Load the feature scaler\n",
        "    with open('song_emotion_model/feature_scaler.pkl', 'rb') as f:\n",
        "        loaded_scaler = pickle.load(f)\n",
        "\n",
        "    # Scale the input features\n",
        "    scaled_features = loaded_scaler.transform(features)\n",
        "\n",
        "    # Make predictions\n",
        "    predictions = loaded_model.predict(scaled_features)\n",
        "    predicted_classes = np.argmax(predictions, axis=1)\n",
        "\n",
        "    # Convert numeric predictions to category labels\n",
        "    predicted_categories = loaded_le.inverse_transform(predicted_classes)\n",
        "\n",
        "    return predicted_categories"
      ],
      "metadata": {
        "colab": {
          "base_uri": "https://localhost:8080/"
        },
        "id": "mGHVBJT-aMOm",
        "outputId": "36f512ba-59d7-4139-b266-38cb21be71bd"
      },
      "execution_count": 10,
      "outputs": [
        {
          "output_type": "stream",
          "name": "stderr",
          "text": [
            "WARNING:absl:You are saving your model as an HDF5 file via `model.save()` or `keras.saving.save_model(model)`. This file format is considered legacy. We recommend using instead the native Keras format, e.g. `model.save('my_model.keras')` or `keras.saving.save_model(model, 'my_model.keras')`. \n",
            "WARNING:absl:Compiled the loaded model, but the compiled metrics have yet to be built. `model.compile_metrics` will be empty until you train or evaluate the model.\n"
          ]
        },
        {
          "output_type": "stream",
          "name": "stdout",
          "text": [
            "Model and related files saved in 'song_emotion_model' directory.\n",
            "\u001b[1m1/1\u001b[0m \u001b[32m━━━━━━━━━━━━━━━━━━━━\u001b[0m\u001b[37m\u001b[0m \u001b[1m0s\u001b[0m 70ms/step\n",
            "Predicted emotions for new songs: ['SAD']\n"
          ]
        }
      ]
    },
    {
      "cell_type": "markdown",
      "source": [
        "**Example usage**"
      ],
      "metadata": {
        "id": "IsG7WyL5bl5v"
      }
    },
    {
      "cell_type": "code",
      "source": [
        "new_song = pd.DataFrame({\n",
        "    'valence': [0.472],\n",
        "    'energy': [0.662],\n",
        "    'danceability': [0.512],\n",
        "    'acousticness': [0.0275],\n",
        "    'loudness': [-6.797],\n",
        "    'tempo': [180.114],\n",
        "    'instrumentalness': [0],\n",
        "    'liveness': [0.118]\n",
        "})\n",
        "\n",
        "predicted_emotions = load_and_predict(new_song)\n",
        "print(\"Predicted emotions for new songs:\", predicted_emotions)"
      ],
      "metadata": {
        "id": "V3lYArcNboTl"
      },
      "execution_count": null,
      "outputs": []
    },
    {
      "cell_type": "markdown",
      "source": [
        "**Predict Emotions for Spotify Playlist Songs**"
      ],
      "metadata": {
        "id": "8D2xEFbicz-0"
      }
    },
    {
      "cell_type": "code",
      "source": [
        "import spotipy\n",
        "import os\n",
        "from spotipy.oauth2 import SpotifyOAuth\n",
        "import pandas as pd\n",
        "from sklearn.preprocessing import StandardScaler\n",
        "from sklearn.impute import SimpleImputer\n",
        "import numpy as np\n",
        "import tensorflow as tf\n",
        "import pickle\n",
        "\n",
        "sp = spotipy.Spotify(auth_manager=SpotifyOAuth(client_id='251dd6e14b55484b93669bd4cc944d2d',\n",
        "                                               client_secret='1ff83134e6d94951ab0375b815f3ba1e',\n",
        "                                               redirect_uri='https://google.com'\n",
        "                                               ))\n",
        "\n",
        "# Fetch playlist tracks\n",
        "playlist_id = '2uORYX3pVmRBUJe8uXrK8H'\n",
        "results = sp.playlist_tracks(playlist_id)\n",
        "tracks = results['items']\n",
        "\n",
        "# Extract features, names, and URLs\n",
        "data = []\n",
        "names = []\n",
        "urls = []\n",
        "for track in tracks:\n",
        "    song_id = track['track']['id']\n",
        "    features = sp.audio_features(song_id)[0]\n",
        "    if features is not None:\n",
        "        data.append(features)\n",
        "        names.append(track['track']['name'])\n",
        "        urls.append(track['track']['external_urls']['spotify'])\n",
        "\n",
        "# Convert to DataFrame\n",
        "df = pd.DataFrame(data)\n",
        "\n",
        "# Select relevant features (make sure these match the features used in training)\n",
        "features = ['valence', 'energy', 'danceability', 'acousticness', 'loudness', 'tempo', 'instrumentalness', 'liveness']\n",
        "X = df[features]\n",
        "\n",
        "# Load the trained model and related components\n",
        "model = tf.keras.models.load_model('model/full_model.h5')\n",
        "with open('model/label_encoder.pkl', 'rb') as f:\n",
        "    le = pickle.load(f)\n",
        "with open('model/feature_scaler.pkl', 'rb') as f:\n",
        "    scaler = pickle.load(f)\n",
        "\n",
        "# Preprocess the data\n",
        "imputer = SimpleImputer(strategy='mean')\n",
        "X_imputed = imputer.fit_transform(X)\n",
        "X_scaled = scaler.transform(X_imputed)\n",
        "\n",
        "# Make predictions\n",
        "predictions = model.predict(X_scaled)\n",
        "predicted_classes = np.argmax(predictions, axis=1)\n",
        "predicted_emotions = le.inverse_transform(predicted_classes)\n",
        "\n",
        "# Create a DataFrame with results\n",
        "results_df = pd.DataFrame({\n",
        "    'Song Name': names,\n",
        "    'Song URL': urls,\n",
        "    'Predicted Emotion': predicted_emotions\n",
        "})\n",
        "\n",
        "# Print the results\n",
        "print(results_df.to_string(index=False))\n",
        "\n",
        "# Optionally, save the results to a CSV file\n",
        "results_df.to_csv('playlist_emotions.csv', index=False)\n",
        "print(\"\\nResults have been saved to 'playlist_emotions.csv'\")"
      ],
      "metadata": {
        "colab": {
          "base_uri": "https://localhost:8080/"
        },
        "id": "A6Ib0D69cyEI",
        "outputId": "f5250f2f-8bbc-45c1-b6d0-19ea6f1f3348"
      },
      "execution_count": 14,
      "outputs": [
        {
          "output_type": "stream",
          "name": "stderr",
          "text": [
            "WARNING:absl:Compiled the loaded model, but the compiled metrics have yet to be built. `model.compile_metrics` will be empty until you train or evaluate the model.\n",
            "/usr/local/lib/python3.10/dist-packages/sklearn/base.py:465: UserWarning: X does not have valid feature names, but StandardScaler was fitted with feature names\n",
            "  warnings.warn(\n"
          ]
        },
        {
          "output_type": "stream",
          "name": "stdout",
          "text": [
            "\r\u001b[1m1/2\u001b[0m \u001b[32m━━━━━━━━━━\u001b[0m\u001b[37m━━━━━━━━━━\u001b[0m \u001b[1m0s\u001b[0m 132ms/step"
          ]
        },
        {
          "output_type": "stream",
          "name": "stderr",
          "text": [
            "WARNING:tensorflow:5 out of the last 564 calls to <function TensorFlowTrainer.make_predict_function.<locals>.one_step_on_data_distributed at 0x7a05c2097640> triggered tf.function retracing. Tracing is expensive and the excessive number of tracings could be due to (1) creating @tf.function repeatedly in a loop, (2) passing tensors with different shapes, (3) passing Python objects instead of tensors. For (1), please define your @tf.function outside of the loop. For (2), @tf.function has reduce_retracing=True option that can avoid unnecessary retracing. For (3), please refer to https://www.tensorflow.org/guide/function#controlling_retracing and https://www.tensorflow.org/api_docs/python/tf/function for  more details.\n"
          ]
        },
        {
          "output_type": "stream",
          "name": "stdout",
          "text": [
            "\u001b[1m2/2\u001b[0m \u001b[32m━━━━━━━━━━━━━━━━━━━━\u001b[0m\u001b[37m\u001b[0m \u001b[1m0s\u001b[0m 146ms/step\n",
            "                                                                Song Name                                              Song URL Predicted Emotion\n",
            "                                                                  7 Years https://open.spotify.com/track/5kqIPrATaCc2LqxVWzQGbk             HAPPY\n",
            "                                                                  ROXANNE https://open.spotify.com/track/696DnlkuDOXcMAnKlTgXXK             HAPPY\n",
            "                                                                 Careless https://open.spotify.com/track/61RsA1VPJu0JFVsxMxwW6b             HAPPY\n",
            "                                                           Counting Stars https://open.spotify.com/track/2tpWsVSb9UEmDRxAl1zhX1             HAPPY\n",
            "                                                            Dreams pt. II https://open.spotify.com/track/6hwF25W29VOWw1nZ76EAXY               SAD\n",
            "                                              Godzilla (feat. Juice WRLD) https://open.spotify.com/track/7FIWs0pqAYbP91WWM0vlTQ          RELAXING\n",
            "                                                                  Runaway https://open.spotify.com/track/1v1oIWf2Xgh54kIWuKsDf6             SCARY\n",
            "                                                            Cheap Thrills https://open.spotify.com/track/27SdWb2rFzO6GWiYDBTD9j          RELAXING\n",
            "                                                        Take Me To Church https://open.spotify.com/track/3dYD57lRAUcMHufyqn9GcI             SCARY\n",
            "                                                                    Teeth https://open.spotify.com/track/26wLOs3ZuHJa2Ihhx6QIE6          RELAXING\n",
            "                                                                     Trip https://open.spotify.com/track/6CTWathupIiDs7U4InHnDA             HAPPY\n",
            "                                                            Old Town Road https://open.spotify.com/track/0F7FA14euOIX8KcbEturGH          RELAXING\n",
            "                                                                  Rap God https://open.spotify.com/track/6or1bKJiZ06IlK0vFvY75k              CALM\n",
            "                                                                    Stars https://open.spotify.com/track/6ycR39gJUREuGH48AOZH6l               SAD\n",
            "                                                                Attention https://open.spotify.com/track/5cF0dROlMOK5uNZtivgu50          RELAXING\n",
            "                                          There's Nothing Holdin' Me Back https://open.spotify.com/track/7JJmb5XwzOO8jgpou264Ml          RELAXING\n",
            "                                           Happy - From \"Despicable Me 2\" https://open.spotify.com/track/60nZcImufyMA1MKQY3dcCH          RELAXING\n",
            "                                           Uptown Funk (feat. Bruno Mars) https://open.spotify.com/track/32OlwWuMpZ6b0aN2RZOeMS          RELAXING\n",
            "                                                     Don't Worry Be Happy https://open.spotify.com/track/5YbgcwHjQhdT1BYQ4rxWlD             SCARY\n",
            "                                                          Blinding Lights https://open.spotify.com/track/0VjIjW4GlUZAMYd2vXMi3b               SAD\n",
            "                                                                  Lean On https://open.spotify.com/track/1Lim1Py7xBgbAkAys3AGAG             HAPPY\n",
            "                                                                 Movement https://open.spotify.com/track/0SFq19lgG4qbQAZaNZ3xhO               SAD\n",
            "Eyes Blue Like The Atlantic, Pt. 2 (feat. Powfu, Alec Benjamin & Rxseboy) https://open.spotify.com/track/1eCTQhsNA31FcwyNcJcf86          RELAXING\n",
            "                                                   Wellerman - Sea Shanty https://open.spotify.com/track/54OBgO0Xwu20Jak9TMXbR7          RELAXING\n",
            "                                       This City Remix (feat. Anne-Marie) https://open.spotify.com/track/1FtIOsS879PVgtHKw3C6Vs             SCARY\n",
            "                                                                 Sweaters https://open.spotify.com/track/6LIdQXimZpFIXWjOqLbyAT               SAD\n",
            "                                          Sh-Boom (Life Could Be a Dream) https://open.spotify.com/track/0GqChhBLTIHEr07iKnbb3W          RELAXING\n",
            "                                                              Mockingbird https://open.spotify.com/track/561jH07mF1jHuk7KlaeF0s             HAPPY\n",
            "                                         death bed (coffee for your head) https://open.spotify.com/track/7eJMfftS33KTjuF7lTsMCx              CALM\n",
            "                                                                    Toxic https://open.spotify.com/track/3M214U0mwSm041GsQR3nrO               SAD\n",
            "                                                               The Search https://open.spotify.com/track/3oLe5ZILASG8vU5dxIMfLY          RELAXING\n",
            "                                                  World's Smallest Violin https://open.spotify.com/track/68EkhVWIeULhHxcbi1QhzK              CALM\n",
            "                                                                    Bones https://open.spotify.com/track/54ipXppHLA8U4yqpOFTUhr          RELAXING\n",
            "                                                             Life Goes On https://open.spotify.com/track/0eu4C55hL6x29mmeAjytzC          RELAXING\n",
            "                                                          Sweater Weather https://open.spotify.com/track/2QjOHCTQ1Jl3zawyYOpxh6             HAPPY\n",
            "                                                                 Face Off https://open.spotify.com/track/6M47gaKejso9772SKTa3yH             HAPPY\n",
            "                                                                The Hills https://open.spotify.com/track/7fBv7CLKzipRk6EC6TWHOB             HAPPY\n",
            "                                                               Bassthoven https://open.spotify.com/track/00PYMeyU91Xt0j9UwmEpoX          RELAXING\n",
            "                                                        Bohemian Rhapsody https://open.spotify.com/track/3z8h0TU7ReDPLIbEnYhWZb             SCARY\n",
            "                                       We Will Rock You - Remastered 2011 https://open.spotify.com/track/4pbJqGIASGPr0ZpGpnWkDn             SCARY\n",
            "                                                                   Violet https://open.spotify.com/track/7IezwtVIJIPC36LpKMR9d7          RELAXING\n",
            "                                                               Without Me https://open.spotify.com/track/7lQ8MOhq6IN2w8EYcFNSUk          RELAXING\n",
            "                                                                   lovely https://open.spotify.com/track/3az62jBzapcmY6WHtgv955             SCARY\n",
            "                                                                 Marathon https://open.spotify.com/track/6TVqffNTpDAlfCtDIKyFbZ          RELAXING\n",
            "                                 Hoist the Colours - Bass Singers Version https://open.spotify.com/track/6osGEhJCyLbneXgpcpKlUW             SCARY\n",
            "                                                                Le Festin https://open.spotify.com/track/02JIdsrod3BYucThfUFDUX             SCARY\n",
            "                                                                Fireflies https://open.spotify.com/track/3DamFFqW32WihKkTVlwTYQ               SAD\n",
            "                                                      Banana Boat (Day-O) https://open.spotify.com/track/4fHDlIntTsRGSyTg5UYZYC             SCARY\n",
            "\n",
            "Results have been saved to 'playlist_emotions.csv'\n"
          ]
        }
      ]
    }
  ]
}